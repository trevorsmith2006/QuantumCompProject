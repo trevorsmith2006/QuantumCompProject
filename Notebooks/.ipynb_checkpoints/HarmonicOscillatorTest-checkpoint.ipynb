{
 "cells": [
  {
   "cell_type": "markdown",
   "metadata": {},
   "source": [
    "# TISE Integration Scheme and Testing\n",
    "\n",
    "Trevor Smith  \n",
    "PHYS 472 Spring 2020  \n",
    "Professor Jackson"
   ]
  },
  {
   "cell_type": "markdown",
   "metadata": {},
   "source": [
    "In this notebook we will develop a numerical integration procedure for the time-independent Schroedinger Equation (TISE) and test it on a simple 1D potential with known eigenstates."
   ]
  },
  {
   "cell_type": "markdown",
   "metadata": {},
   "source": [
    "TISE, solved for curvature:  $$ \\frac{d^2\\psi}{dx^2} = \\frac{2m}{\\hbar^2} \\left[ V(x) - E \\right] \\psi(x) $$  \n",
    "\n",
    "\n",
    "Definition of the derivative gives us (approximation using finite steps for $x$):\n",
    "$$\\left( \\frac{d\\psi}{dx}\\right) _{x_0+\\Delta x} = \\left( \\frac{d\\psi}{dx}\\right) _{x_0} + \\left( \\frac{d^2\\psi}{dx^2}\\right) \\Delta x $$\n",
    "\n",
    "Taylor Series Expansion about $x_0$:  \n",
    "$$\\psi(x_0+\\Delta x)=\\psi(x_0)+\\left(\\frac{d\\psi}{dx}\\right) _{x_0} \\Delta x + \\left( \\frac{d^2\\psi}{dx^2}\\right) _{x_0} \\frac{\\Delta x^2}{2} $$\n",
    "\n",
    "Our algorithm will need to loop through these three equations, in this order, to estimate the value of the wavefunction at $x_0+\\Delta x$."
   ]
  },
  {
   "cell_type": "code",
   "execution_count": 1,
   "metadata": {},
   "outputs": [],
   "source": [
    "# import python modules\n",
    "import numpy as np\n",
    "import matplotlib\n",
    "import matplotlib.pyplot as plt\n",
    "from scipy.integrate import simps\n",
    "import astropy.constants as const\n",
    "import astropy.units as u\n",
    "\n",
    "# plotting magic\n",
    "%matplotlib inline"
   ]
  },
  {
   "cell_type": "markdown",
   "metadata": {},
   "source": [
    "## Natural Units of Quantum Systems\n",
    "\n",
    "It would be difficult to solve for and plot these quantum wavefunctions in SI base units. For example, the wavefunction of an electron in a hydrogen atom has a size typically measured in angstroms ($10^{-10} meters$), and atomic energy levels are measured in electron volts ($1.602 \\times 10^{-19} Joules$).  \n",
    "\n",
    "Using these length and energy scales, what are the typical values of the constants we will be using?"
   ]
  },
  {
   "cell_type": "code",
   "execution_count": 2,
   "metadata": {},
   "outputs": [
    {
     "data": {
      "text/latex": [
       "$6.5821196 \\times 10^{-16} \\; \\mathrm{eV\\,s}$"
      ],
      "text/plain": [
       "<Quantity 6.58211957e-16 eV s>"
      ]
     },
     "execution_count": 2,
     "metadata": {},
     "output_type": "execute_result"
    }
   ],
   "source": [
    "# reduced planck constant: J*s to eV*s\n",
    "hbar = const.hbar.to(u.electronvolt*u.s)\n",
    "hbar"
   ]
  },
  {
   "cell_type": "code",
   "execution_count": 3,
   "metadata": {},
   "outputs": [
    {
     "data": {
      "text/latex": [
       "$5.6856301 \\times 10^{-32} \\; \\mathrm{\\frac{s^{2}\\,eV}{\\mathring{A}^{2}}}$"
      ],
      "text/plain": [
       "<Quantity 5.6856301e-32 eV s2 / Angstrom2>"
      ]
     },
     "execution_count": 3,
     "metadata": {},
     "output_type": "execute_result"
    }
   ],
   "source": [
    "# electron mass: MeV/c^2 to eV/(angstroms/s)^2\n",
    "m_e = const.m_e.to(u.electronvolt/u.angstrom**2*u.s**2)\n",
    "m_e"
   ]
  },
  {
   "cell_type": "code",
   "execution_count": 4,
   "metadata": {},
   "outputs": [
    {
     "data": {
      "text/latex": [
       "$0.26246842 \\; \\mathrm{\\frac{1}{eV\\,\\mathring{A}^{2}}}$"
      ],
      "text/plain": [
       "<Quantity 0.26246842 1 / (Angstrom2 eV)>"
      ]
     },
     "execution_count": 4,
     "metadata": {},
     "output_type": "execute_result"
    }
   ],
   "source": [
    "# in these units, the coefficient in the TISE will be\n",
    "2*m_e/hbar**2"
   ]
  },
  {
   "cell_type": "markdown",
   "metadata": {},
   "source": [
    "## Integration Scheme\n",
    "\n",
    "Here we create a class called QuantumSystem. In this class we will store information\n",
    "that is general to all quantum systems we may want to solve, as well as the functions\n",
    "needed for the numerical integration.  \n",
    "\n",
    "QuantumSystem.V(x) is currently a placeholder function. By having it return 0 we can\n",
    "test the integration functions, but when we want to solve an actual system we will\n",
    "need to overwrite it."
   ]
  },
  {
   "cell_type": "code",
   "execution_count": 5,
   "metadata": {},
   "outputs": [],
   "source": [
    "class QuantumSystem:\n",
    "    def __init__(self, E, m=5.6856e-32):\n",
    "        \"\"\"\n",
    "        Takes and stores constants needed for every quantum particle wavefunction.\n",
    "        Inputs:\n",
    "            E = particle energy (eV)\n",
    "            m = particle mass (ev/(angstrom/s)^2)\n",
    "                default value is equal to 1 electron mass\n",
    "        \"\"\"\n",
    "        self.E = E\n",
    "        self.m = m\n",
    "        self.hbar = 6.5821e-16 # eV*s\n",
    "    \n",
    "    def V(self, x):\n",
    "        \"\"\"\n",
    "        Function that returns the potential as a function of position\n",
    "        for a specific quantum system with a 1D potential.\n",
    "        This is a placeholder function for child classes to override.\n",
    "        Inputs:\n",
    "            x = the position to evaluate the potential energy at (angstrom)\n",
    "        Returns:\n",
    "            the potential at position x (eV)\n",
    "        \"\"\"\n",
    "        return 0\n",
    "    \n",
    "    def TISE(self, psi, x):\n",
    "        \"\"\"\n",
    "        Function to calculate the second derivative of the wavefunction\n",
    "        with respect to x, by solving the Time Independent Schroedinger\n",
    "        Equation (TISE).\n",
    "        Inputs:\n",
    "            x = position (angstroms)\n",
    "            psi = wavefunction amplitude at x\n",
    "        Returns:\n",
    "            the second derivative of the wavefunction at x\n",
    "            (amplitude/angstrom^2)\n",
    "        \"\"\"\n",
    "        return 2*self.m/self.hbar**2*(self.V(x)-self.E)*psi\n",
    "    \n",
    "    def Step(self, psi0, psidot0, x0, dx):\n",
    "        \"\"\"\n",
    "        Function to approximate the wavefunction amplitude and slope\n",
    "        at the point x0+dx using a Taylor series expansion\n",
    "        Inputs:\n",
    "            psi0 = value of wavefunction at x0 (amplitude)\n",
    "            psidot0 = wavefunction slope at x0 (amplitude/angstrom)\n",
    "            x0 = starting position (angstroms)\n",
    "            dx = size of step (angstroms)\n",
    "        Returns:\n",
    "            psi = estimated wavefunction at x0+dx (amplitude)\n",
    "            psidot = estimated slop of wavefunction at x0+dx\n",
    "                (amplitude/angstrom)\n",
    "            x = new position (angstroms)\n",
    "        \"\"\"\n",
    "        # solve TISE to get curvature (psidotdot) at x0\n",
    "        psidotdot0 = self.TISE(psi0,x0)\n",
    "        \n",
    "        # new position after this calculation\n",
    "        x = x0 + dx\n",
    "        \n",
    "        # calculate approximate slope at x\n",
    "        psidot = psidot0 + dx*psidotdot0\n",
    "        \n",
    "        # calculate approximate amplitude at x0+dx (Taylor Series)\n",
    "        psi = psi0 + dx*psidot0 + (dx**2/2)*psidotdot0\n",
    "        \n",
    "        # return new amplitude, slope, and position\n",
    "        return psi, psidot, x\n",
    "    \n",
    "    def Integrate(self, psi0, psidot0, x0, xmax, dx):\n",
    "        \"\"\"\n",
    "        Function that calculates entire wavefunction over a given interval.\n",
    "        Inputs:\n",
    "            psi0 = initial amplitude at x0\n",
    "            psidot0 = initial slope at x0\n",
    "            x0 = starting position (angstroms)\n",
    "            xmax = final position to calculate, must be > x0 (angstroms)\n",
    "        Returns:\n",
    "            psi = list of amplitude values\n",
    "            x = list of positions (angstroms) corresponding to psi values\n",
    "        \"\"\"\n",
    "        # initialize lists to store wavefunction data\n",
    "        psi = [psi0]\n",
    "        x = [x0]\n",
    "        \n",
    "        # we only need to store latest value of psidot, since we only\n",
    "        # need it for the calculation\n",
    "        psidot = psidot0\n",
    "        \n",
    "        # perform the integration\n",
    "        # loop while the latest value for x is less than xmax\n",
    "        while x[-1] < xmax:\n",
    "            # step to x+dx\n",
    "            psinew, psidotnew, xnew = self.Step(psi[-1],psidot0,x[-1],dx)\n",
    "\n",
    "            # add new values to our lists\n",
    "            psi += [psinew]\n",
    "            x += [xnew]\n",
    "\n",
    "            # we only need to save latest value of psidot\n",
    "            psidot0 = psidotnew\n",
    "        # return wavefunction data\n",
    "        return psi, x\n",
    "        \n",
    "    def Normalize(self, psi, x):\n",
    "        \"\"\"\n",
    "        Function to normalize a given calculated (real-valued) wavefunction.\n",
    "        Normalization condition: |psi|^2 = 1\n",
    "        Wavefunction must converge at both ends.\n",
    "        Inputs:\n",
    "            psi = array of amplitude values\n",
    "            x = array of positions that corresponds to values in psi\n",
    "                (angstroms)\n",
    "        Returns:\n",
    "            psi * calculated normalization constant\n",
    "        \"\"\"\n",
    "        # calculate mod squared of the wavefunction\n",
    "        # integrate using scipy.integrate.simps\n",
    "        modsquared = simps(psi**2,x=x)\n",
    "        \n",
    "        # normalization constant\n",
    "        A = 1/np.sqrt(modsquared)\n",
    "        \n",
    "        # return normalized psi\n",
    "        return A*psi\n",
    "    \n",
    "    def set_E(self, E):\n",
    "        \"\"\"\n",
    "        Function to allow changing E after instance is initialized.\n",
    "        Inputs:\n",
    "            E = new particle energy (eV)\n",
    "        Returns:\n",
    "            none\n",
    "        \"\"\"\n",
    "        self.E = E"
   ]
  },
  {
   "cell_type": "code",
   "execution_count": 6,
   "metadata": {},
   "outputs": [
    {
     "data": {
      "text/plain": [
       "[<matplotlib.lines.Line2D at 0x273c1334788>]"
      ]
     },
     "execution_count": 6,
     "metadata": {},
     "output_type": "execute_result"
    },
    {
     "data": {
      "image/png": "[encoded data removed]",
      "text/plain": [
       "<Figure size 432x288 with 1 Axes>"
      ]
     },
     "metadata": {
      "needs_background": "light"
     },
     "output_type": "display_data"
    }
   ],
   "source": [
    "\"\"\"\n",
    "Integration Test\n",
    "We will solve for a wavefunction with an arbitrary E in a flat\n",
    "potential (V=0). This should give us the wavefunction of a particle\n",
    "in a square well, if the walls were far outside our interval.\n",
    "\n",
    "Solution should be a sinusoidal wave.\n",
    "\"\"\"\n",
    "# initialize class\n",
    "E = 3 # eV\n",
    "SquareWellTest = QuantumSystem(E)\n",
    "\n",
    "# set limits and step size for integration\n",
    "x0 = -10\n",
    "xmax = 10\n",
    "dx = 0.05\n",
    "\n",
    "# set initial values for wavefunction\n",
    "# we know solution should be sinosoidal\n",
    "# choose an arbitrary value for amplitude, and set slope to 0\n",
    "# this should give us a peak at x0\n",
    "psi0 = 1\n",
    "psidot0 = 0\n",
    "\n",
    "# perform integration\n",
    "psi, x = SquareWellTest.Integrate(psi0, psidot0, x0, xmax, dx)\n",
    "\n",
    "# show solution\n",
    "plt.plot(x, psi)"
   ]
  },
  {
   "cell_type": "markdown",
   "metadata": {},
   "source": [
    "This looks mostly correct. The fact that the amplitude is increasing means that we are accruing significant error and may need to shorten dx."
   ]
  },
  {
   "cell_type": "markdown",
   "metadata": {},
   "source": [
    "## Test Integration Scheme for a Quantum Harmonic Oscillator\n",
    "\n",
    "Here we will test our integration in a simple potential with well known eigenstates. First, we will need to define a child class to QuantumSystem that defines the 1D potential of a Quantum Harmonic Oscillator (QHO)."
   ]
  },
  {
   "cell_type": "code",
   "execution_count": 7,
   "metadata": {},
   "outputs": [],
   "source": [
    "class HarmonicOscillator(QuantumSystem):\n",
    "    def __init__(self, E, k, m=5.6856e-32):\n",
    "        \"\"\"\n",
    "        Takes and stores constants needed for the QHO.\n",
    "        Inputs:\n",
    "            E = particle energy (eV)\n",
    "            k = spring force constant (eV/angstrom^2)\n",
    "            m = particle mass (ev/(angstrom/s)^2)\n",
    "                default value is equal to 1 electron mass\n",
    "        \"\"\"\n",
    "        self.E = E\n",
    "        self.k = k\n",
    "        self.m = m\n",
    "        self.hbar = 6.5821e-16 # eV*s\n",
    "        \n",
    "\n",
    "    def V(self,x):\n",
    "        \"\"\"\n",
    "        Function that returns the potential as a function of position\n",
    "        for the QHO.\n",
    "        This is the potential energy due to a spring-like force (F=-kx).\n",
    "        Inputs:\n",
    "            x = the position to evaluate the potential energy at (angstrom)\n",
    "        Returns:\n",
    "            the potential at position x (eV)\n",
    "        \"\"\"\n",
    "        return 0.5*self.k*x**2\n",
    "    def AnalyticEnergy(self, n):\n",
    "        \"\"\"\n",
    "        Function for testing results using analytic solution to the QHO\n",
    "        Inputs:\n",
    "            n = theoretical quantum number for QHO\n",
    "        Returns:\n",
    "            energy according to the analytic formula (eV)\n",
    "        \"\"\"\n",
    "        omega = np.sqrt(self.k/self.m)\n",
    "        return (n+1/2)*self.hbar*omega"
   ]
  },
  {
   "cell_type": "markdown",
   "metadata": {},
   "source": [
    "## Ground State of the Harmonic Oscillator\n",
    "\n",
    "Here we will test our code and try to produce the ground state of a particle in a simple harmonic potential. The solution should be in the form of a guassian distribution."
   ]
  },
  {
   "cell_type": "code",
   "execution_count": 10,
   "metadata": {},
   "outputs": [
    {
     "data": {
      "text/plain": [
       "[<matplotlib.lines.Line2D at 0x273c14cb788>]"
      ]
     },
     "execution_count": 10,
     "metadata": {},
     "output_type": "execute_result"
    },
    {
     "data": {
      "image/png": "[encoded data removed]",
      "text/plain": [
       "<Figure size 432x288 with 1 Axes>"
      ]
     },
     "metadata": {
      "needs_background": "light"
     },
     "output_type": "display_data"
    }
   ],
   "source": [
    "# create an instance of the QHO\n",
    "E = 1 # eV\n",
    "k = 1 # eV/angstrom**2\n",
    "qho = HarmonicOscillator(1, k)\n",
    "# use analytic energy equation to set E to ground state energy (n=0)\n",
    "qho.set_E(qho.AnalyticEnergy(0))\n",
    "\n",
    "# set integration parameters\n",
    "x0 = 0\n",
    "xmax = 10\n",
    "dx = 0.005\n",
    "\n",
    "# set initial values for wavefunction\n",
    "psi0 = 1\n",
    "psidot0 = 0\n",
    "\n",
    "# integrate\n",
    "psi, x = qho.Integrate(psi0, psidot0, x0, xmax, dx)\n",
    "plt.plot(x,psi)"
   ]
  },
  {
   "cell_type": "markdown",
   "metadata": {},
   "source": [
    "Clearly incorrect. Diverging to infinity is a common error in this integration scheme, for reasons outlined in the pdf. We will need to adjust our step size and interval so that we accrue less error."
   ]
  },
  {
   "cell_type": "code",
   "execution_count": 15,
   "metadata": {},
   "outputs": [
    {
     "data": {
      "text/plain": [
       "[<matplotlib.lines.Line2D at 0x273c15dd608>]"
      ]
     },
     "execution_count": 15,
     "metadata": {},
     "output_type": "execute_result"
    },
    {
     "data": {
      "image/png": "[encoded data removed]",
      "text/plain": [
       "<Figure size 432x288 with 1 Axes>"
      ]
     },
     "metadata": {
      "needs_background": "light"
     },
     "output_type": "display_data"
    }
   ],
   "source": [
    "dx = 0.001\n",
    "xmax=5\n",
    "psi, x = qho.Integrate(psi0, psidot0, x0, xmax, dx)\n",
    "\n",
    "plt.plot(x,psi)"
   ]
  }
 ],
 "metadata": {
  "kernelspec": {
   "display_name": "Python 3",
   "language": "python",
   "name": "python3"
  },
  "language_info": {
   "codemirror_mode": {
    "name": "ipython",
    "version": 3
   },
   "file_extension": ".py",
   "mimetype": "text/x-python",
   "name": "python",
   "nbconvert_exporter": "python",
   "pygments_lexer": "ipython3",
   "version": "3.7.6"
  }
 },
 "nbformat": 4,
 "nbformat_minor": 4
}
