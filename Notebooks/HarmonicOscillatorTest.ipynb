{
 "cells": [
  {
   "cell_type": "markdown",
   "metadata": {},
   "source": [
    "# Numerical Integration of TISE in the 1D Harmonic Oscillator\n",
    "\n",
    "Trevor Smith  \n",
    "PHYS 472 Spring 2020  \n",
    "Professor Jackson"
   ]
  },
  {
   "cell_type": "markdown",
   "metadata": {},
   "source": [
    "In this notebook we will develop a numerical integration procedure for the time-independent Schroedinger Equation (TISE) and test it on a simple 1D potential with known eigenstates."
   ]
  },
  {
   "cell_type": "markdown",
   "metadata": {},
   "source": [
    "TISE, solved for curvature:  $$ \\frac{d^2\\psi}{dx^2} = \\frac{2m}{\\hbar^2} \\left[ V(x) - E \\right] \\psi(x) $$  \n",
    "\n",
    "\n",
    "Definition of the derivative gives us (approximation using finite steps for $x$):\n",
    "$$\\left( \\frac{d\\psi}{dx}\\right) _{x_0+\\Delta x} = \\left( \\frac{d\\psi}{dx}\\right) _{x_0} + \\left( \\frac{d^2\\psi}{dx^2}\\right) \\Delta x $$\n",
    "\n",
    "Taylor Series Expansion about $x_0$:  \n",
    "$$\\psi(x_0+\\Delta x)=\\psi(x_0)+\\left(\\frac{d\\psi}{dx}\\right) _{x_0} \\Delta x + \\left( \\frac{d^2\\psi}{dx^2}\\right) _{x_0} \\frac{\\Delta x^2}{2} $$\n",
    "\n",
    "Our algorithm will need to loop through these three equations, in this order, to estimate the value of the wavefunction at $x_0+\\Delta x$."
   ]
  },
  {
   "cell_type": "code",
   "execution_count": 1,
   "metadata": {},
   "outputs": [],
   "source": [
    "# import python modules\n",
    "import numpy as np\n",
    "import matplotlib.pyplot as plt"
   ]
  },
  {
   "cell_type": "code",
   "execution_count": null,
   "metadata": {},
   "outputs": [],
   "source": [
    "class HarmonicOscillator:\n",
    "    def __init__(self, E, m, hbar, k):\n",
    "        self.E = E\n",
    "        self.m = m\n",
    "        self.hbar = hbar\n",
    "        self.k = k\n",
    "    \n",
    "    def V(x):\n",
    "        return (1/2)*self.k*x**2\n",
    "    \n",
    "    def AnalyticEnergy(self, n):\n",
    "        \"\"\"\n",
    "        Function for testing results using analytic solution to the QHO\n",
    "        Inputs:\n",
    "            n = theoretical quantum number for QHO\n",
    "        Returns:\n",
    "            energy according to the analytic formula (eV)\n",
    "        \"\"\"\n",
    "        omega = np.sqrt(self.k/self.m)\n",
    "        return (n+1/2)*self.hbar*omega\n",
    "    \n",
    "    def TISE(self, psi, x):\n",
    "        \"\"\"\n",
    "        Function to calculate the second derivative of the wavefunction\n",
    "        with respect to x.\n",
    "        Inputs:\n",
    "            x = position (angstroms)\n",
    "            psi = wavefunction amplitude at x\n",
    "        Returns:\n",
    "            the second derivative of the wavefunction at x\n",
    "            (amplitude/angstrom^2)\n",
    "        \"\"\"\n",
    "        return 2*self.m/self.hbar**2*(self.V(x)-self.E)*psi\n",
    "    def psidot(psidot,psidotdot,dx):\n",
    "        \"\"\"\n",
    "        Estimates the first derivative of the wavefunction with respect\n",
    "        to x at x0+dx\n",
    "        Inputs:\n",
    "            psidot = first derivative fo the wavefunction at x0\n",
    "            psidotdot = second derivative of the wavefunction at x0\n",
    "                (amplitude/angstrom^2)\n",
    "            dx = step length (angstroms)\n",
    "        Returns:\n",
    "            estimated slop of the wavefunction at x0+dx \n",
    "                (amplitude/angstrom)\n",
    "        \"\"\"\n",
    "        return psidot + psidotdot*deltax\n",
    "    def step(psi0, psidot0, x0, dx):\n",
    "        \"\"\"\n",
    "        Function to approximate the wavefunction amplitude and slope\n",
    "        at the point x0+dx using a Taylor series expansion\n",
    "        Inputs:\n",
    "            psi0 = value of wavefunction at x0 (amplitude)\n",
    "            psidot0 = wavefunction slope at x0 (amplitude/angstrom)\n",
    "            dx = size of step (angstroms)\n",
    "        Returns:\n",
    "            psi = estimated wavefunction at x0+dx (amplitude)\n",
    "            psidot = estimated slop of wavefunction at x0+dx\n",
    "                (amplitude/angstrom)\n",
    "        \"\"\"\n",
    "        return psi0 + psidot0*dx + TISE(psi0,x0)*dx**2/2"
   ]
  }
 ],
 "metadata": {
  "kernelspec": {
   "display_name": "Python 3",
   "language": "python",
   "name": "python3"
  },
  "language_info": {
   "codemirror_mode": {
    "name": "ipython",
    "version": 3
   },
   "file_extension": ".py",
   "mimetype": "text/x-python",
   "name": "python",
   "nbconvert_exporter": "python",
   "pygments_lexer": "ipython3",
   "version": "3.7.6"
  }
 },
 "nbformat": 4,
 "nbformat_minor": 4
}
